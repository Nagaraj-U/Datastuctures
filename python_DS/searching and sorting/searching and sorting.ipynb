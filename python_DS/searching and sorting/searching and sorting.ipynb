{
 "cells": [
  {
   "cell_type": "markdown",
   "metadata": {},
   "source": [
    "## BUBBLE SORT"
   ]
  },
  {
   "cell_type": "code",
   "execution_count": 1,
   "metadata": {},
   "outputs": [
    {
     "name": "stdout",
     "output_type": "stream",
     "text": [
      "sorted array is :\n",
      "[2, 3, 3, 6, 45, 56, 78, 89]\n"
     ]
    }
   ],
   "source": [
    "def bubble_sort(arr):\n",
    "    for i in range(len(arr)):\n",
    "        for j in range(0,len(arr)-i-1):\n",
    "            if arr[j] > arr[j+1]:\n",
    "                temp=arr[j]\n",
    "                arr[j]=arr[j+1]\n",
    "                arr[j+1]=temp\n",
    "                \n",
    "    print('sorted array is :')\n",
    "    print(arr)\n",
    "    \n",
    "    \n",
    "arr=[2,3,56,3,89,45,6,78]\n",
    "bubble_sort(arr)\n",
    "                "
   ]
  },
  {
   "cell_type": "code",
   "execution_count": 22,
   "metadata": {},
   "outputs": [
    {
     "name": "stdout",
     "output_type": "stream",
     "text": [
      "how many number you want to enter:9\n",
      "154\n",
      "254\n",
      "445\n",
      "45\n",
      "1\n",
      "2\n",
      "3\n",
      "4\n",
      "2\n",
      "sorted array is :\n",
      "[1, 2, 2, 3, 4, 45, 154, 254, 445]\n"
     ]
    }
   ],
   "source": [
    "#reading input from user\n",
    "import time\n",
    "def bubble_sort():\n",
    "    n=int(input(\"how many number you want to enter:\"))\n",
    "    l=[]\n",
    "    for i in range(n):\n",
    "        l.append(int(input()))\n",
    "    for i in range(len(l)):\n",
    "        for j in range(0,len(l)-i-1):\n",
    "            if l[j] > l[j+1]:\n",
    "                temp=l[j]\n",
    "                l[j]=l[j+1]\n",
    "                l[j+1]=temp\n",
    "                \n",
    "    print('sorted array is :')\n",
    "    print(l)\n",
    "    \n",
    "    \n",
    "bubble_sort()"
   ]
  },
  {
   "cell_type": "markdown",
   "metadata": {},
   "source": [
    "## SELECTION SORT"
   ]
  },
  {
   "cell_type": "code",
   "execution_count": 25,
   "metadata": {},
   "outputs": [
    {
     "name": "stdout",
     "output_type": "stream",
     "text": [
      "enter size of array8\n",
      "14\n",
      "1\n",
      "2568\n",
      "2\n",
      "3541\n",
      "12\n",
      "3\n",
      "45\n",
      "sorted array is:\n",
      "[1, 2, 3, 12, 14, 45, 2568, 3541]\n"
     ]
    }
   ],
   "source": [
    "def selection_sort():\n",
    "    arr=[]\n",
    "    n=int(input('enter size of array'))\n",
    "    for i in range(n):\n",
    "        arr.append(int(input()))\n",
    "       \n",
    "    for i in range(n-1):\n",
    "        min=i\n",
    "        for j in range(i+1,n):\n",
    "            if arr[j] < arr[min]:\n",
    "                min=j\n",
    "        temp=arr[min]\n",
    "        arr[min]=arr[i]\n",
    "        arr[i]=temp\n",
    "        \n",
    "        \n",
    "        \n",
    "    print('sorted array is:')\n",
    "    print(arr)\n",
    "        \n",
    "selection_sort()"
   ]
  },
  {
   "cell_type": "markdown",
   "metadata": {},
   "source": [
    "\n",
    "## MERGE SORT"
   ]
  },
  {
   "cell_type": "code",
   "execution_count": 20,
   "metadata": {},
   "outputs": [],
   "source": [
    "def merge_sort(arr):\n",
    "    \n",
    "    if len(arr)>1:\n",
    "        mid=int(len(arr)/2)\n",
    "        left=arr[:mid]\n",
    "        right=arr[mid:]\n",
    "        merge_sort(left)\n",
    "        merge_sort(right)\n",
    "        \n",
    "        i=0\n",
    "        j=0\n",
    "        k=0\n",
    "        while i < len(left) and j < len(right):\n",
    "            if left[i] < right[j]:\n",
    "                arr[k]=left[i]\n",
    "                i+=1\n",
    "            else:\n",
    "                arr[k]=right[j]\n",
    "                j+=1\n",
    "            k+=1\n",
    "            \n",
    "        while i < len(left):\n",
    "            arr[k]=left[i]\n",
    "            i+=1\n",
    "            k+=1\n",
    "            \n",
    "        while j < len(right):\n",
    "            arr[k]=right[j]\n",
    "            j+=1\n",
    "            k+=1\n",
    "            \n",
    "        print(arr)\n",
    "        \n",
    "    else:\n",
    "        print(arr)\n",
    "    "
   ]
  },
  {
   "cell_type": "code",
   "execution_count": 21,
   "metadata": {},
   "outputs": [
    {
     "name": "stdout",
     "output_type": "stream",
     "text": [
      "[2]\n",
      "[5]\n",
      "[2, 5]\n",
      "[7]\n",
      "[8]\n",
      "[45]\n",
      "[8, 45]\n",
      "[7, 8, 45]\n",
      "[2, 5, 7, 8, 45]\n",
      "[4]\n",
      "[45]\n",
      "[1]\n",
      "[1, 45]\n",
      "[1, 4, 45]\n",
      "[876]\n",
      "[542]\n",
      "[34251]\n",
      "[542, 34251]\n",
      "[542, 876, 34251]\n",
      "[1, 4, 45, 542, 876, 34251]\n",
      "[1, 2, 4, 5, 7, 8, 45, 45, 542, 876, 34251]\n"
     ]
    }
   ],
   "source": [
    "arr=[2,5,7,8,45,4,45,1,876,542,34251]\n",
    "merge_sort(arr)"
   ]
  },
  {
   "cell_type": "code",
   "execution_count": 22,
   "metadata": {},
   "outputs": [
    {
     "name": "stdout",
     "output_type": "stream",
     "text": [
      "[1]\n"
     ]
    }
   ],
   "source": [
    "arr=[1]\n",
    "merge_sort(arr)"
   ]
  },
  {
   "cell_type": "markdown",
   "metadata": {},
   "source": [
    "## QUICK SORT"
   ]
  },
  {
   "cell_type": "raw",
   "metadata": {},
   "source": []
  },
  {
   "cell_type": "code",
   "execution_count": 10,
   "metadata": {},
   "outputs": [],
   "source": [
    "def quick(arr):\n",
    "    quick_sort(arr,0,len(arr)-1)\n",
    "    print(arr)\n",
    "\n",
    "def quick_sort(arr,first,last):\n",
    "    \n",
    "    if first<last:\n",
    "        split=partition(arr,first,last)\n",
    "        quick_sort(arr,first,split-1)\n",
    "        quick_sort(arr,split+1,last)\n",
    "        \n",
    "    \n",
    "    \n",
    "def partition(arr,first,last):\n",
    "    pivot=arr[first]\n",
    "    left=first+1\n",
    "    right=last\n",
    "    isDone=False\n",
    "    while not isDone:\n",
    "            while left<=right and arr[left]<=pivot:\n",
    "                left+=1\n",
    "                \n",
    "            while right>=left and arr[right]>pivot:\n",
    "                right-=1\n",
    "                \n",
    "            if right<left:\n",
    "                isDone=True\n",
    "                \n",
    "            else:\n",
    "                temp=arr[left]  #swapping left and right\n",
    "                arr[left]=arr[right]\n",
    "                arr[right]=temp\n",
    "                \n",
    "    temp=arr[first]   #swapping pivot and right\n",
    "    arr[first]=arr[right]\n",
    "    arr[right]=temp\n",
    "    \n",
    "    return right\n",
    "\n",
    "\n",
    "                \n",
    "            "
   ]
  },
  {
   "cell_type": "code",
   "execution_count": 11,
   "metadata": {},
   "outputs": [
    {
     "name": "stdout",
     "output_type": "stream",
     "text": [
      "[2, 5, 12, 34, 43, 78, 543]\n"
     ]
    }
   ],
   "source": [
    "arr=[12,43,34,5,78,543,2]\n",
    "quick(arr)"
   ]
  },
  {
   "cell_type": "code",
   "execution_count": 12,
   "metadata": {},
   "outputs": [
    {
     "data": {
      "text/plain": [
       "[2, 5, 12, 34, 43, 78, 543]"
      ]
     },
     "execution_count": 12,
     "metadata": {},
     "output_type": "execute_result"
    }
   ],
   "source": [
    "arr"
   ]
  },
  {
   "cell_type": "code",
   "execution_count": 13,
   "metadata": {},
   "outputs": [
    {
     "name": "stdout",
     "output_type": "stream",
     "text": [
      "[-45, 1, 2, 2, 2, 5, 11, 12, 32, 34, 34, 43, 43, 78, 343, 543, 24355]\n"
     ]
    },
    {
     "data": {
      "text/plain": [
       "[-45, 1, 2, 2, 2, 5, 11, 12, 32, 34, 34, 43, 43, 78, 343, 543, 24355]"
      ]
     },
     "execution_count": 13,
     "metadata": {},
     "output_type": "execute_result"
    }
   ],
   "source": [
    "arr=[12,43,34,5,78,543,2,-45,43,2,34,1,11,24355,343,32,2]\n",
    "quick(arr)\n",
    "arr"
   ]
  },
  {
   "cell_type": "code",
   "execution_count": null,
   "metadata": {},
   "outputs": [],
   "source": []
  },
  {
   "cell_type": "markdown",
   "metadata": {},
   "source": [
    "## Insertion sort"
   ]
  },
  {
   "cell_type": "code",
   "execution_count": 14,
   "metadata": {},
   "outputs": [],
   "source": [
    "def insertion_sort(arr):\n",
    "    for i in range(1,len(arr)):\n",
    "        currentValue=arr[i]\n",
    "        pos=i\n",
    "        while pos > 0 and arr[pos-1] > currentValue:  #comparing with previous element and right shifting\n",
    "            arr[pos]=arr[pos-1]\n",
    "            pos=pos-1\n",
    "            \n",
    "        arr[pos]=currentValue\n",
    "        \n",
    "    return arr"
   ]
  },
  {
   "cell_type": "code",
   "execution_count": 15,
   "metadata": {},
   "outputs": [
    {
     "data": {
      "text/plain": [
       "[1, 4, 23, 34, 56, 78]"
      ]
     },
     "execution_count": 15,
     "metadata": {},
     "output_type": "execute_result"
    }
   ],
   "source": [
    "arr=[1,23,4,56,78,34]\n",
    "insertion_sort(arr)"
   ]
  },
  {
   "cell_type": "code",
   "execution_count": null,
   "metadata": {},
   "outputs": [],
   "source": []
  }
 ],
 "metadata": {
  "kernelspec": {
   "display_name": "Python 3",
   "language": "python",
   "name": "python3"
  },
  "language_info": {
   "codemirror_mode": {
    "name": "ipython",
    "version": 3
   },
   "file_extension": ".py",
   "mimetype": "text/x-python",
   "name": "python",
   "nbconvert_exporter": "python",
   "pygments_lexer": "ipython3",
   "version": "3.7.4"
  }
 },
 "nbformat": 4,
 "nbformat_minor": 2
}
